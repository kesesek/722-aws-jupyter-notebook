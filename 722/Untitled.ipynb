{
 "cells": [
  {
   "cell_type": "code",
   "execution_count": 1,
   "id": "faad96ae",
   "metadata": {},
   "outputs": [
    {
     "name": "stderr",
     "output_type": "stream",
     "text": [
      "WARNING: An illegal reflective access operation has occurred\n",
      "WARNING: Illegal reflective access by org.apache.spark.unsafe.Platform (file:/home/ubuntu/.local/lib/python3.10/site-packages/pyspark/jars/spark-unsafe_2.12-3.2.1.jar) to constructor java.nio.DirectByteBuffer(long,int)\n",
      "WARNING: Please consider reporting this to the maintainers of org.apache.spark.unsafe.Platform\n",
      "WARNING: Use --illegal-access=warn to enable warnings of further illegal reflective access operations\n",
      "WARNING: All illegal access operations will be denied in a future release\n",
      "Using Spark's default log4j profile: org/apache/spark/log4j-defaults.properties\n",
      "Setting default log level to \"WARN\".\n",
      "To adjust logging level use sc.setLogLevel(newLevel). For SparkR, use setLogLevel(newLevel).\n",
      "24/05/15 03:33:16 WARN NativeCodeLoader: Unable to load native-hadoop library for your platform... using builtin-java classes where applicable\n",
      "                                                                                \r"
     ]
    }
   ],
   "source": [
    "from pyspark.sql import SparkSession\n",
    "spark = SparkSession.builder.appName(\"DataAnalysis\").getOrCreate()\n",
    "spark.sparkContext.setLogLevel(\"ERROR\")\n",
    "# Import the dataset\n",
    "disorders_data = spark.read.csv(\"Mental health Depression disorder Data.csv\", header=True, inferSchema=True)"
   ]
  },
  {
   "cell_type": "code",
   "execution_count": 2,
   "id": "ee4b04dc",
   "metadata": {
    "scrolled": true
   },
   "outputs": [
    {
     "name": "stdout",
     "output_type": "stream",
     "text": [
      "+-----+-----------+----+----+-----------------+--------------------+--------------------+---------------------+----------------------+--------------+-------------------------+\n",
      "|index|     Entity|Code|Year|Schizophrenia (%)|Bipolar disorder (%)|Eating disorders (%)|Anxiety disorders (%)|Drug use disorders (%)|Depression (%)|Alcohol use disorders (%)|\n",
      "+-----+-----------+----+----+-----------------+--------------------+--------------------+---------------------+----------------------+--------------+-------------------------+\n",
      "|    0|Afghanistan| AFG|1990|          0.16056|            0.697779|            0.101855|              4.82883|              1.677082|      4.071831|                 0.672404|\n",
      "|    1|Afghanistan| AFG|1991|         0.160312|            0.697961|            0.099313|              4.82974|              1.684746|      4.079531|                 0.671768|\n",
      "|    2|Afghanistan| AFG|1992|         0.160135|            0.698107|            0.096692|             4.831108|              1.694334|      4.088358|                 0.670644|\n",
      "|    3|Afghanistan| AFG|1993|         0.160037|            0.698257|            0.094336|             4.830864|               1.70532|       4.09619|                 0.669738|\n",
      "|    4|Afghanistan| AFG|1994|         0.160022|            0.698469|            0.092439|             4.829423|              1.716069|      4.099582|                  0.66926|\n",
      "|    5|Afghanistan| AFG|1995|         0.160076|            0.698695|             0.09098|             4.828337|              1.728112|      4.104207|                 0.668746|\n",
      "|    6|Afghanistan| AFG|1996|         0.160249|            0.698914|            0.089709|             4.828083|              1.737643|        4.1075|                 0.667727|\n",
      "|    7|Afghanistan| AFG|1997|         0.160554|            0.699127|            0.088372|             4.827726|              1.746891|      4.110834|                  0.66622|\n",
      "|    8|Afghanistan| AFG|1998|         0.160931|            0.699372|             0.08733|             4.826971|              1.756963|      4.114438|                 0.664676|\n",
      "|    9|Afghanistan| AFG|1999|         0.161311|            0.699674|            0.086267|             4.826413|              1.770791|      4.117633|                 0.663428|\n",
      "|   10|Afghanistan| AFG|2000|         0.161621|            0.700015|            0.086021|             4.827047|              1.788395|       4.11861|                 0.662479|\n",
      "|   11|Afghanistan| AFG|2001|         0.161957|            0.700499|            0.086517|             4.831409|              1.839123|      4.121381|                 0.661158|\n",
      "|   12|Afghanistan| AFG|2002|         0.162414|            0.701141|            0.087023|             4.838318|              1.934326|      4.124928|                 0.659213|\n",
      "|   13|Afghanistan| AFG|2003|         0.162916|             0.70186|            0.087189|             4.845538|              2.051106|       4.12523|                 0.657354|\n",
      "|   14|Afghanistan| AFG|2004|         0.163377|            0.702556|            0.088158|             4.851512|              2.163044|      4.126384|                 0.656132|\n",
      "|   15|Afghanistan| AFG|2005|         0.163706|            0.703078|            0.088933|             4.854684|              2.247443|      4.126908|                 0.655686|\n",
      "|   16|Afghanistan| AFG|2006|         0.163977|            0.703517|            0.090054|             4.856685|               2.32102|      4.128638|                 0.656297|\n",
      "|   17|Afghanistan| AFG|2007|         0.164302|            0.703998|            0.091688|             4.858861|              2.405564|      4.129728|                 0.657709|\n",
      "|   18|Afghanistan| AFG|2008|         0.164639|             0.70448|            0.093589|             4.860437|              2.483862|      4.129656|                 0.659501|\n",
      "|   19|Afghanistan| AFG|2009|         0.164932|            0.704925|            0.095166|             4.861533|              2.543884|      4.129972|                 0.661185|\n",
      "+-----+-----------+----+----+-----------------+--------------------+--------------------+---------------------+----------------------+--------------+-------------------------+\n",
      "only showing top 20 rows\n",
      "\n",
      "root\n",
      " |-- index: integer (nullable = true)\n",
      " |-- Entity: string (nullable = true)\n",
      " |-- Code: string (nullable = true)\n",
      " |-- Year: string (nullable = true)\n",
      " |-- Schizophrenia (%): string (nullable = true)\n",
      " |-- Bipolar disorder (%): string (nullable = true)\n",
      " |-- Eating disorders (%): string (nullable = true)\n",
      " |-- Anxiety disorders (%): double (nullable = true)\n",
      " |-- Drug use disorders (%): double (nullable = true)\n",
      " |-- Depression (%): double (nullable = true)\n",
      " |-- Alcohol use disorders (%): double (nullable = true)\n",
      "\n",
      "The dataset has 108553 rows and 11 columns.\n"
     ]
    }
   ],
   "source": [
    "disorders_data.show()\n",
    "disorders_data.printSchema()\n",
    "print(f\"The dataset has {disorders_data.count()} rows and {len(disorders_data.columns)} columns.\")"
   ]
  },
  {
   "cell_type": "code",
   "execution_count": 3,
   "id": "91b5c6ba",
   "metadata": {
    "scrolled": true
   },
   "outputs": [
    {
     "name": "stdout",
     "output_type": "stream",
     "text": [
      "['In', 'Out', 'SparkSession', '_', '__', '___', '__builtin__', '__builtins__', '__doc__', '__loader__', '__name__', '__package__', '__spec__', '_dh', '_i', '_i1', '_i2', '_i3', '_ih', '_ii', '_iii', '_oh', 'disorders_data', 'exit', 'get_ipython', 'quit', 'spark']\n"
     ]
    }
   ],
   "source": [
    "print(dir())"
   ]
  },
  {
   "cell_type": "code",
   "execution_count": 4,
   "id": "555b7550",
   "metadata": {
    "scrolled": false
   },
   "outputs": [
    {
     "name": "stderr",
     "output_type": "stream",
     "text": [
      "\r",
      "[Stage 6:=============================>                             (1 + 1) / 2]\r"
     ]
    },
    {
     "name": "stdout",
     "output_type": "stream",
     "text": [
      "Number of unique values in the column: 276\n"
     ]
    },
    {
     "name": "stderr",
     "output_type": "stream",
     "text": [
      "\r",
      "                                                                                \r"
     ]
    }
   ],
   "source": [
    "# Get the number of unique values in Entity\n",
    "unique_count = disorders_data.select(\"Entity\").distinct().count()\n",
    "print(\"Number of unique values in the column:\", unique_count)"
   ]
  },
  {
   "cell_type": "code",
   "execution_count": 5,
   "id": "f049a0ff",
   "metadata": {},
   "outputs": [
    {
     "name": "stdout",
     "output_type": "stream",
     "text": [
      "+----+-----------------+\n",
      "|Year|Schizophrenia (%)|\n",
      "+----+-----------------+\n",
      "|1990|         0.253503|\n",
      "|1991|         0.253542|\n",
      "|1992|          0.25358|\n",
      "|1993|         0.253643|\n",
      "|1994|           0.2537|\n",
      "+----+-----------------+\n",
      "only showing top 5 rows\n",
      "\n"
     ]
    },
    {
     "name": "stderr",
     "output_type": "stream",
     "text": [
      "\r",
      "[Stage 13:=============================>                            (1 + 1) / 2]\r",
      "\r",
      "                                                                                \r"
     ]
    },
    {
     "data": {
      "image/png": "[encoded data removed]",
      "text/plain": [
       "<Figure size 720x360 with 1 Axes>"
      ]
     },
     "metadata": {
      "needs_background": "light"
     },
     "output_type": "display_data"
    }
   ],
   "source": [
    "# Generate a plot of world Schizophrenia (%) trend\n",
    "from pyspark.sql.functions import col, isnan\n",
    "world_data = disorders_data.filter(col(\"Entity\") == \"World\")\n",
    "world_data = world_data.filter(~world_data[\"Year\"].contains(\"BCE\"))\n",
    "world_data = world_data.withColumn(\"Year\", world_data[\"Year\"].cast(\"int\"))\n",
    "world_data = world_data.filter((col(\"Year\") >= 1990) & (col(\"Year\") <= 2017))\n",
    "world_data = world_data.withColumn(\"Schizophrenia (%)\", col(\"Schizophrenia (%)\").cast(\"float\"))\n",
    "world_data.select(\"Year\", \"Schizophrenia (%)\").show(5)\n",
    "\n",
    "import matplotlib.pyplot as plt\n",
    "plot_data = world_data.select(\"Year\", \"Schizophrenia (%)\").toPandas()\n",
    "plt.figure(figsize=(10, 5))\n",
    "plt.plot(plot_data['Year'], plot_data['Schizophrenia (%)'], marker='o', linestyle='-')\n",
    "plt.title('Schizophrenia Prevalence Over Years (World)')\n",
    "plt.xlabel('Year')\n",
    "plt.ylabel('Schizophrenia (%)')\n",
    "plt.grid(True)\n",
    "plt.show()"
   ]
  },
  {
   "cell_type": "code",
   "execution_count": 6,
   "id": "4d2ff465",
   "metadata": {},
   "outputs": [
    {
     "name": "stdout",
     "output_type": "stream",
     "text": [
      "+----+--------------------+\n",
      "|Year|Bipolar disorder (%)|\n",
      "+----+--------------------+\n",
      "|1990|            0.585743|\n",
      "|1991|             0.58599|\n",
      "|1992|            0.586309|\n",
      "|1993|            0.586637|\n",
      "|1994|             0.58693|\n",
      "+----+--------------------+\n",
      "only showing top 5 rows\n",
      "\n"
     ]
    },
    {
     "data": {
      "image/png": "[encoded data removed]",
      "text/plain": [
       "<Figure size 720x360 with 1 Axes>"
      ]
     },
     "metadata": {
      "needs_background": "light"
     },
     "output_type": "display_data"
    }
   ],
   "source": [
    "# Generate a plot of world Bipolar disorder (%) trend\n",
    "world_data1 = disorders_data.filter(col(\"Entity\") == \"World\")\n",
    "world_data1 = world_data1.filter(~world_data1[\"Year\"].contains(\"BCE\"))\n",
    "world_data1 = world_data1.withColumn(\"Year\", world_data1[\"Year\"].cast(\"int\"))\n",
    "world_data1 = world_data1.filter((col(\"Year\") >= 1990) & (col(\"Year\") <= 2017))\n",
    "bipolar_data = world_data1.withColumn(\"Bipolar disorder (%)\", col(\"Bipolar disorder (%)\").cast(\"float\"))\n",
    "bipolar_data.select(\"Year\", \"Bipolar disorder (%)\").show(5)\n",
    "\n",
    "import matplotlib.pyplot as plt\n",
    "plot_data = bipolar_data.select(\"Year\", \"Bipolar disorder (%)\").toPandas()\n",
    "plt.figure(figsize=(10, 5))\n",
    "plt.plot(plot_data['Year'], plot_data['Bipolar disorder (%)'], marker='o', linestyle='-')\n",
    "plt.title('Bipolar disorder Prevalence Over Years (World)')\n",
    "plt.xlabel('Year')\n",
    "plt.ylabel('Bipolar disorder (%)')\n",
    "plt.grid(True)\n",
    "plt.show()"
   ]
  },
  {
   "cell_type": "code",
   "execution_count": 7,
   "id": "1ff25083",
   "metadata": {},
   "outputs": [
    {
     "name": "stdout",
     "output_type": "stream",
     "text": [
      "+----+--------------------+\n",
      "|Year|Eating disorders (%)|\n",
      "+----+--------------------+\n",
      "|1990|            0.177865|\n",
      "|1991|            0.178034|\n",
      "|1992|            0.178218|\n",
      "|1993|            0.178419|\n",
      "|1994|            0.178688|\n",
      "+----+--------------------+\n",
      "only showing top 5 rows\n",
      "\n"
     ]
    },
    {
     "data": {
      "image/png": "[encoded data removed]",
      "text/plain": [
       "<Figure size 720x360 with 1 Axes>"
      ]
     },
     "metadata": {
      "needs_background": "light"
     },
     "output_type": "display_data"
    }
   ],
   "source": [
    "# Generate a plot of world Eating disorders (%) trend\n",
    "Eating_data = world_data1.withColumn(\"Eating disorders (%)\", col(\"Eating disorders (%)\").cast(\"float\"))\n",
    "Eating_data.select(\"Year\", \"Eating disorders (%)\").show(5)\n",
    "\n",
    "import matplotlib.pyplot as plt\n",
    "Eating_plot_data = Eating_data.select(\"Year\", \"Eating disorders (%)\").toPandas()\n",
    "plt.figure(figsize=(10, 5))\n",
    "plt.plot(Eating_plot_data['Year'], Eating_plot_data['Eating disorders (%)'], marker='o', linestyle='-')\n",
    "plt.title('Eating disorders Prevalence Over Years (World)')\n",
    "plt.xlabel('Year')\n",
    "plt.ylabel('Eating disorders (%)')\n",
    "plt.grid(True)\n",
    "plt.show()"
   ]
  },
  {
   "cell_type": "code",
   "execution_count": 8,
   "id": "cefdf49c",
   "metadata": {},
   "outputs": [
    {
     "name": "stdout",
     "output_type": "stream",
     "text": [
      "+----+---------------------+\n",
      "|Year|Anxiety disorders (%)|\n",
      "+----+---------------------+\n",
      "|1990|             3.774653|\n",
      "|1991|              3.77276|\n",
      "|1992|             3.771018|\n",
      "|1993|              3.76986|\n",
      "|1994|             3.769128|\n",
      "+----+---------------------+\n",
      "only showing top 5 rows\n",
      "\n"
     ]
    },
    {
     "data": {
      "image/png": "[encoded data removed]",
      "text/plain": [
       "<Figure size 720x360 with 1 Axes>"
      ]
     },
     "metadata": {
      "needs_background": "light"
     },
     "output_type": "display_data"
    }
   ],
   "source": [
    "# Generate a plot of world Anxiety disorders (%) trend\n",
    "Anxiety_data = world_data1.withColumn(\"Anxiety disorders (%)\", col(\"Anxiety disorders (%)\").cast(\"float\"))\n",
    "Anxiety_data.select(\"Year\", \"Anxiety disorders (%)\").show(5)\n",
    "\n",
    "import matplotlib.pyplot as plt\n",
    "Anxiety_plot_data = Anxiety_data.select(\"Year\", \"Anxiety disorders (%)\").toPandas()\n",
    "plt.figure(figsize=(10, 5))\n",
    "plt.plot(Anxiety_plot_data['Year'], Anxiety_plot_data['Anxiety disorders (%)'], marker='o', linestyle='-')\n",
    "plt.title('Anxiety disorders Prevalence Over Years (World)')\n",
    "plt.xlabel('Year')\n",
    "plt.ylabel('Anxiety disorders (%)')\n",
    "plt.grid(True)\n",
    "plt.show()"
   ]
  },
  {
   "cell_type": "code",
   "execution_count": 9,
   "id": "d5d68b35",
   "metadata": {},
   "outputs": [
    {
     "name": "stdout",
     "output_type": "stream",
     "text": [
      "+----+----------------------+\n",
      "|Year|Drug use disorders (%)|\n",
      "+----+----------------------+\n",
      "|1990|               0.90085|\n",
      "|1991|              0.900952|\n",
      "|1992|              0.901787|\n",
      "|1993|              0.903045|\n",
      "|1994|              0.904346|\n",
      "+----+----------------------+\n",
      "only showing top 5 rows\n",
      "\n"
     ]
    },
    {
     "data": {
      "image/png": "[encoded data removed]",
      "text/plain": [
       "<Figure size 720x360 with 1 Axes>"
      ]
     },
     "metadata": {
      "needs_background": "light"
     },
     "output_type": "display_data"
    }
   ],
   "source": [
    "# Generate a plot of world Drug use disorders (%) trend\n",
    "Drug_data = world_data1.withColumn(\"Drug use disorders (%)\", col(\"Drug use disorders (%)\").cast(\"float\"))\n",
    "Drug_data.select(\"Year\", \"Drug use disorders (%)\").show(5)\n",
    "\n",
    "import matplotlib.pyplot as plt\n",
    "Drug_plot_data = Drug_data.select(\"Year\", \"Drug use disorders (%)\").toPandas()\n",
    "plt.figure(figsize=(10, 5))\n",
    "plt.plot(Drug_plot_data['Year'], Drug_plot_data['Drug use disorders (%)'], marker='o', linestyle='-')\n",
    "plt.title('Drug use disorders Prevalence Over Years (World)')\n",
    "plt.xlabel('Year')\n",
    "plt.ylabel('Drug use disorders (%)')\n",
    "plt.grid(True)\n",
    "plt.show()"
   ]
  },
  {
   "cell_type": "code",
   "execution_count": 10,
   "id": "86b405f2",
   "metadata": {},
   "outputs": [
    {
     "name": "stdout",
     "output_type": "stream",
     "text": [
      "+----+--------------+\n",
      "|Year|Depression (%)|\n",
      "+----+--------------+\n",
      "|1990|      3.541656|\n",
      "|1991|      3.545953|\n",
      "|1992|       3.54909|\n",
      "|1993|      3.550657|\n",
      "|1994|      3.550852|\n",
      "+----+--------------+\n",
      "only showing top 5 rows\n",
      "\n"
     ]
    },
    {
     "data": {
      "image/png": "[encoded data removed]",
      "text/plain": [
       "<Figure size 720x360 with 1 Axes>"
      ]
     },
     "metadata": {
      "needs_background": "light"
     },
     "output_type": "display_data"
    }
   ],
   "source": [
    "# Generate a plot of world Depression (%) trend\n",
    "Depression_data = world_data1.withColumn(\"Depression (%)\", col(\"Depression (%)\").cast(\"float\"))\n",
    "Depression_data.select(\"Year\", \"Depression (%)\").show(5)\n",
    "\n",
    "import matplotlib.pyplot as plt\n",
    "Depression_plot_data = Depression_data.select(\"Year\", \"Depression (%)\").toPandas()\n",
    "plt.figure(figsize=(10, 5))\n",
    "plt.plot(Depression_plot_data['Year'], Depression_plot_data['Depression (%)'], marker='o', linestyle='-')\n",
    "plt.title('Depression Prevalence Over Years (World)')\n",
    "plt.xlabel('Year')\n",
    "plt.ylabel('Depression (%)')\n",
    "plt.grid(True)\n",
    "plt.show()"
   ]
  },
  {
   "cell_type": "code",
   "execution_count": 11,
   "id": "829ac44a",
   "metadata": {},
   "outputs": [
    {
     "name": "stdout",
     "output_type": "stream",
     "text": [
      "+----+-------------------------+\n",
      "|Year|Alcohol use disorders (%)|\n",
      "+----+-------------------------+\n",
      "|1990|                 1.438494|\n",
      "|1991|                 1.444019|\n",
      "|1992|                 1.449593|\n",
      "|1993|                 1.454155|\n",
      "|1994|                 1.457587|\n",
      "+----+-------------------------+\n",
      "only showing top 5 rows\n",
      "\n"
     ]
    },
    {
     "data": {
      "image/png": "[encoded data removed]",
      "text/plain": [
       "<Figure size 720x360 with 1 Axes>"
      ]
     },
     "metadata": {
      "needs_background": "light"
     },
     "output_type": "display_data"
    }
   ],
   "source": [
    "# Generate a plot of world Alcohol use disorders (%) trend\n",
    "Alcohol_data = world_data1.withColumn(\"Alcohol use disorders (%)\", col(\"Alcohol use disorders (%)\").cast(\"float\"))\n",
    "Alcohol_data.select(\"Year\", \"Alcohol use disorders (%)\").show(5)\n",
    "\n",
    "Alcohol_plot_data = Alcohol_data.select(\"Year\", \"Alcohol use disorders (%)\").toPandas()\n",
    "plt.figure(figsize=(10, 5))\n",
    "plt.plot(Alcohol_plot_data['Year'], Alcohol_plot_data['Alcohol use disorders (%)'], marker='o', linestyle='-')\n",
    "plt.title('Alcohol use disorders Prevalence Over Years (World)')\n",
    "plt.xlabel('Year')\n",
    "plt.ylabel('Alcohol use disorders (%)')\n",
    "plt.grid(True)\n",
    "plt.show()"
   ]
  },
  {
   "cell_type": "code",
   "execution_count": 12,
   "id": "08ea0b8c",
   "metadata": {},
   "outputs": [
    {
     "name": "stdout",
     "output_type": "stream",
     "text": [
      "+------------+--------------------+----+-----------+------------------+--------------+--------------------------------+----------------------------+------------+-------------------------+---------------+---------------+---------------------------------+\n",
      "|Country Name|  Regional Indicator|Year|Life Ladder|Log GDP Per Capita|Social Support|Healthy Life Expectancy At Birth|Freedom To Make Life Choices|  Generosity|Perceptions Of Corruption|Positive Affect|Negative Affect|Confidence In National Government|\n",
      "+------------+--------------------+----+-----------+------------------+--------------+--------------------------------+----------------------------+------------+-------------------------+---------------+---------------+---------------------------------+\n",
      "| Afghanistan|          South Asia|2008|3.723589897|       7.350416183|   0.450662315|                            50.5|                 0.718114316| 0.167652458|               0.88168633|    0.414297044|     0.25819549|                       0.61207211|\n",
      "| Afghanistan|          South Asia|2009|4.401778221|       7.508646011|    0.55230844|                     50.79999924|                 0.678896368| 0.190808803|              0.850035429|    0.481421441|     0.23709242|                      0.611545205|\n",
      "| Afghanistan|          South Asia|2010| 4.75838089|       7.613899708|   0.539075196|                     51.09999847|                  0.60012722| 0.121316046|              0.706766069|    0.516906679|    0.275323808|                      0.299357414|\n",
      "| Afghanistan|          South Asia|2011| 3.83171916|       7.581258774|   0.521103561|                     51.40000153|                 0.495901406| 0.163571492|              0.731108546|    0.479834676|    0.267174691|                      0.307385713|\n",
      "| Afghanistan|          South Asia|2012|3.782937527|       7.660505772|   0.520636737|                     51.70000076|                 0.530935049| 0.237587586|              0.775619805|    0.613512814|    0.267919123|                      0.435440153|\n",
      "| Afghanistan|          South Asia|2013|3.572100401|       7.680333138|    0.48355186|                            52.0|                 0.577955365| 0.062666222|                0.8232041|    0.547416985|    0.273328096|                      0.482847273|\n",
      "| Afghanistan|          South Asia|2014|3.130895615|       7.670638084|   0.525568426|                     52.29999924|                 0.508514047| 0.105754882|              0.871241987|    0.491641015|    0.374860734|                      0.409047514|\n",
      "| Afghanistan|          South Asia|2015|3.982854605|       7.653833389|   0.528597236|                     52.59999847|                 0.388927579| 0.081652276|              0.880638301|    0.491409957|    0.339276046|                      0.260557145|\n",
      "| Afghanistan|          South Asia|2016|4.220168591|       7.650369644|   0.559071779|                     52.92499924|                 0.522566199| 0.043916017|              0.793245554|    0.501408756|    0.348332286|                      0.324989557|\n",
      "| Afghanistan|          South Asia|2017| 2.66171813|       7.647830486|   0.490880072|                           53.25|                 0.427010864| -0.11941047|              0.954392552|    0.435269952|    0.371326178|                      0.261178523|\n",
      "| Afghanistan|          South Asia|2018|2.694303274|       7.630800724|   0.507515848|                     53.57500076|                 0.373535544|-0.091105983|              0.927605689|    0.384561479|    0.404904395|                      0.364666402|\n",
      "| Afghanistan|          South Asia|2019|2.375091791|       7.640085697|   0.419972867|                     53.90000153|                 0.393656164| -0.10601645|              0.923849106|    0.324107826|    0.502473712|                      0.341482222|\n",
      "| Afghanistan|          South Asia|2021|2.436034441|       7.324032307|   0.454174697|                     54.54999924|                 0.394305944|-0.081011124|              0.946299374|    0.178885803|     0.60671258|                      0.255620003|\n",
      "| Afghanistan|          South Asia|2022|  1.2812711|              null|   0.228217229|                          54.875|                 0.368377149|        null|              0.733197868|    0.205867782|    0.575511873|                             null|\n",
      "|     Albania|Central and Easte...|2007|4.634251595|       9.121704102|   0.821371615|                     66.76000214|                 0.528604746|-0.010428508|              0.874699533|    0.488818616|     0.24633503|                      0.300680578|\n",
      "|     Albania|Central and Easte...|2009|5.485469818|       9.241429329|   0.833046615|                     67.31999969|                 0.525223255|-0.159258857|              0.863665402|    0.564474463|    0.279256523|                             null|\n",
      "|     Albania|Central and Easte...|2010|5.268936634|       9.282793045|    0.73315227|                     67.59999847|                 0.568958402|-0.173675284|              0.726261675|    0.576076567|    0.300060242|                             null|\n",
      "|     Albania|Central and Easte...|2011|5.867421627|       9.310619354|   0.759433806|                     67.87999725|                 0.487496257|-0.206186071|              0.877002597|    0.565758884|    0.256576508|                             null|\n",
      "|     Albania|Central and Easte...|2012|5.510124207|       9.326343536|   0.784501791|                     68.16000366|                 0.601512134|-0.170467481|              0.847675204|    0.553473175|    0.271393239|                      0.364893705|\n",
      "|     Albania|Central and Easte...|2013|4.550647736|        9.33814621|   0.759476721|                     68.44000244|                 0.631830275|-0.128825098|              0.862904966|     0.54075098|    0.338378578|                      0.338094711|\n",
      "+------------+--------------------+----+-----------+------------------+--------------+--------------------------------+----------------------------+------------+-------------------------+---------------+---------------+---------------------------------+\n",
      "only showing top 20 rows\n",
      "\n",
      "root\n",
      " |-- Country Name: string (nullable = true)\n",
      " |-- Regional Indicator: string (nullable = true)\n",
      " |-- Year: integer (nullable = true)\n",
      " |-- Life Ladder: double (nullable = true)\n",
      " |-- Log GDP Per Capita: double (nullable = true)\n",
      " |-- Social Support: double (nullable = true)\n",
      " |-- Healthy Life Expectancy At Birth: double (nullable = true)\n",
      " |-- Freedom To Make Life Choices: double (nullable = true)\n",
      " |-- Generosity: double (nullable = true)\n",
      " |-- Perceptions Of Corruption: double (nullable = true)\n",
      " |-- Positive Affect: double (nullable = true)\n",
      " |-- Negative Affect: double (nullable = true)\n",
      " |-- Confidence In National Government: double (nullable = true)\n",
      "\n",
      "The dataset has 2199 rows and 13 columns.\n"
     ]
    }
   ],
   "source": [
    "# Import the dataset\n",
    "happiness_data = spark.read.csv(\"World Happiness Report.csv\", header=True, inferSchema=True)\n",
    "happiness_data.show()\n",
    "happiness_data.printSchema()\n",
    "print(f\"The dataset has {happiness_data.count()} rows and {len(happiness_data.columns)} columns.\")"
   ]
  },
  {
   "cell_type": "code",
   "execution_count": 13,
   "id": "d41eddec",
   "metadata": {},
   "outputs": [
    {
     "name": "stdout",
     "output_type": "stream",
     "text": [
      "Number of unique values in the column: 165\n"
     ]
    }
   ],
   "source": [
    "# Get the number of unique values in Country Name\n",
    "unique_country = happiness_data.select(\"Country Name\").distinct().count()\n",
    "print(\"Number of unique values in the column:\", unique_country)"
   ]
  },
  {
   "cell_type": "code",
   "execution_count": 14,
   "id": "2e277d80",
   "metadata": {},
   "outputs": [
    {
     "data": {
      "image/png": "[encoded data removed]",
      "text/plain": [
       "<Figure size 720x432 with 1 Axes>"
      ]
     },
     "metadata": {
      "needs_background": "light"
     },
     "output_type": "display_data"
    }
   ],
   "source": [
    "# Use New Zealand as an instance to explore the World Happiness Report dataset\n",
    "nz_data = happiness_data.filter(\n",
    "    (col(\"Country Name\") == \"New Zealand\") &\n",
    "    (col(\"Year\") >= 2008) &\n",
    "    (col(\"Year\") <= 2022)\n",
    ")\n",
    "nz_data = nz_data.withColumn(\"Year\", col(\"Year\").cast(\"int\"))\n",
    "nz_pandas_data = nz_data.select(\"Year\", \"Life Ladder\").toPandas()\n",
    "plt.figure(figsize=(10, 6))\n",
    "plt.plot(nz_pandas_data['Year'], nz_pandas_data['Life Ladder'], marker='o', linestyle='-')\n",
    "plt.title('Trend of Life Ladder in New Zealand (2008-2022)')\n",
    "plt.xlabel('Year')\n",
    "plt.ylabel('Life Ladder')\n",
    "plt.grid(True)\n",
    "plt.show()"
   ]
  },
  {
   "cell_type": "code",
   "execution_count": 15,
   "id": "f412650e",
   "metadata": {},
   "outputs": [
    {
     "name": "stderr",
     "output_type": "stream",
     "text": [
      "\r",
      "[Stage 39:=============================>                            (1 + 1) / 2]\r"
     ]
    },
    {
     "name": "stdout",
     "output_type": "stream",
     "text": [
      "+-----+------+----+----+-----------------+--------------------+--------------------+---------------------+----------------------+--------------+-------------------------+\n",
      "|index|Entity|Code|Year|Schizophrenia (%)|Bipolar disorder (%)|Eating disorders (%)|Anxiety disorders (%)|Drug use disorders (%)|Depression (%)|Alcohol use disorders (%)|\n",
      "+-----+------+----+----+-----------------+--------------------+--------------------+---------------------+----------------------+--------------+-------------------------+\n",
      "|    0|     0|5412|   0|            82678|               89147|                8317|               102085|                102085|        102085|                   102085|\n",
      "+-----+------+----+----+-----------------+--------------------+--------------------+---------------------+----------------------+--------------+-------------------------+\n",
      "\n"
     ]
    },
    {
     "name": "stderr",
     "output_type": "stream",
     "text": [
      "\r",
      "                                                                                \r"
     ]
    }
   ],
   "source": [
    "# Check quantities of missing values\n",
    "from pyspark.sql.functions import count, when\n",
    "disorders_missing_values = disorders_data.select([\n",
    "    count(when(col(c).isNull(), c)).alias(c) for c in disorders_data.columns\n",
    "])\n",
    "\n",
    "disorders_missing_values.show()"
   ]
  },
  {
   "cell_type": "code",
   "execution_count": 16,
   "id": "33e8b18a",
   "metadata": {},
   "outputs": [
    {
     "name": "stdout",
     "output_type": "stream",
     "text": [
      "+------------+------------------+----+-----------+------------------+--------------+--------------------------------+----------------------------+----------+-------------------------+---------------+---------------+---------------------------------+\n",
      "|Country Name|Regional Indicator|Year|Life Ladder|Log GDP Per Capita|Social Support|Healthy Life Expectancy At Birth|Freedom To Make Life Choices|Generosity|Perceptions Of Corruption|Positive Affect|Negative Affect|Confidence In National Government|\n",
      "+------------+------------------+----+-----------+------------------+--------------+--------------------------------+----------------------------+----------+-------------------------+---------------+---------------+---------------------------------+\n",
      "|           0|               112|   0|          0|                20|            13|                              54|                          33|        73|                      116|             24|             16|                              361|\n",
      "+------------+------------------+----+-----------+------------------+--------------+--------------------------------+----------------------------+----------+-------------------------+---------------+---------------+---------------------------------+\n",
      "\n"
     ]
    }
   ],
   "source": [
    "happiness_missing_values = happiness_data.select([\n",
    "    count(when(col(c).isNull(), c)).alias(c) for c in happiness_data.columns\n",
    "])\n",
    "\n",
    "happiness_missing_values.show()"
   ]
  },
  {
   "cell_type": "code",
   "execution_count": 17,
   "id": "26e275a7",
   "metadata": {},
   "outputs": [
    {
     "name": "stdout",
     "output_type": "stream",
     "text": [
      "root\n",
      " |-- Country Name: string (nullable = true)\n",
      " |-- Regional Indicator: string (nullable = true)\n",
      " |-- Year: integer (nullable = true)\n",
      " |-- Life Ladder: double (nullable = true)\n",
      " |-- Log GDP Per Capita: double (nullable = true)\n",
      " |-- Social Support: double (nullable = true)\n",
      " |-- Healthy Life Expectancy At Birth: double (nullable = true)\n",
      " |-- Freedom To Make Life Choices: double (nullable = true)\n",
      " |-- Generosity: double (nullable = true)\n",
      " |-- Perceptions Of Corruption: double (nullable = true)\n",
      " |-- Positive Affect: double (nullable = true)\n",
      " |-- Negative Affect: double (nullable = true)\n",
      " |-- Confidence In National Government: double (nullable = true)\n",
      "\n"
     ]
    }
   ],
   "source": [
    "happiness_data.printSchema()"
   ]
  },
  {
   "cell_type": "code",
   "execution_count": 18,
   "id": "6664732a",
   "metadata": {},
   "outputs": [],
   "source": [
    "# Make 'Year' numeric & filter data by 'Year'\n",
    "disorders_data = disorders_data.withColumn(\"Year\", col(\"Year\").cast(\"int\"))\n",
    "filtered_data1 = disorders_data.filter((col(\"Year\") >= 2008) & (col(\"Year\") <= 2017))"
   ]
  },
  {
   "cell_type": "code",
   "execution_count": 19,
   "id": "d985cfa7",
   "metadata": {},
   "outputs": [
    {
     "name": "stdout",
     "output_type": "stream",
     "text": [
      "+-----+-----------+----+----+-----------------+--------------------+--------------------+---------------------+----------------------+--------------+-------------------------+\n",
      "|index|     Entity|Code|Year|Schizophrenia (%)|Bipolar disorder (%)|Eating disorders (%)|Anxiety disorders (%)|Drug use disorders (%)|Depression (%)|Alcohol use disorders (%)|\n",
      "+-----+-----------+----+----+-----------------+--------------------+--------------------+---------------------+----------------------+--------------+-------------------------+\n",
      "|   18|Afghanistan| AFG|2008|         0.164639|             0.70448|            0.093589|             4.860437|              2.483862|      4.129656|                 0.659501|\n",
      "|   19|Afghanistan| AFG|2009|         0.164932|            0.704925|            0.095166|             4.861533|              2.543884|      4.129972|                 0.661185|\n",
      "|   20|Afghanistan| AFG|2010|          0.16513|            0.705313|            0.097327|             4.862777|              2.571349|      4.130874|                 0.662062|\n",
      "|   21|Afghanistan| AFG|2011|         0.165272|            0.705688|            0.098638|             4.864773|               2.57317|      4.130862|                 0.662254|\n",
      "|   22|Afghanistan| AFG|2012|         0.165424|            0.706086|            0.099891|             4.867283|              2.576189|      4.132485|                 0.662372|\n",
      "|   23|Afghanistan| AFG|2013|         0.165579|            0.706471|            0.101291|             4.869701|              2.572396|      4.134661|                 0.662433|\n",
      "|   24|Afghanistan| AFG|2014|         0.165742|            0.706876|            0.103137|             4.872256|              2.562885|      4.133526|                 0.662447|\n",
      "|   25|Afghanistan| AFG|2015|         0.165895|            0.707275|            0.104445|             4.875201|              2.543144|      4.135419|                 0.662276|\n",
      "|   26|Afghanistan| AFG|2016|         0.166035|            0.707686|            0.105808|             4.878875|              2.513553|      4.135694|                  0.66185|\n",
      "|   27|Afghanistan| AFG|2017|         0.166158|            0.708089|            0.107142|             4.882481|              2.473934|      4.136347|                 0.661217|\n",
      "|   46|    Albania| ALB|2008|         0.198306|              0.7024|            0.154945|             3.390168|              0.497332|      2.210642|                  1.79855|\n",
      "|   47|    Albania| ALB|2009|         0.198905|            0.702783|            0.157738|             3.391018|              0.498324|      2.206033|                 1.824955|\n",
      "|   48|    Albania| ALB|2010|         0.199308|            0.703064|            0.160337|             3.391246|               0.50027|      2.203342|                 1.838566|\n",
      "|   49|    Albania| ALB|2011|         0.199588|            0.703313|             0.16242|             3.391181|              0.502703|      2.202291|                 1.843256|\n",
      "|   50|    Albania| ALB|2012|         0.199863|            0.703539|            0.165446|             3.390807|              0.505621|      2.202192|                 1.847375|\n",
      "|   51|    Albania| ALB|2013|         0.200134|             0.70376|            0.167105|             3.390195|              0.508049|      2.203098|                 1.850358|\n",
      "|   52|    Albania| ALB|2014|         0.200392|             0.70397|             0.16941|             3.389319|              0.510089|      2.203684|                 1.851517|\n",
      "|   53|    Albania| ALB|2015|          0.20063|            0.704161|            0.171095|             3.388212|              0.513158|      2.204454|                 1.850252|\n",
      "|   54|    Albania| ALB|2016|         0.200845|            0.704335|            0.172627|             3.386891|              0.515036|      2.206507|                 1.845972|\n",
      "|   55|    Albania| ALB|2017|         0.201025|             0.70448|            0.174046|             3.385245|              0.517614|      2.208414|                 1.837955|\n",
      "+-----+-----------+----+----+-----------------+--------------------+--------------------+---------------------+----------------------+--------------+-------------------------+\n",
      "only showing top 20 rows\n",
      "\n"
     ]
    }
   ],
   "source": [
    "filtered_data1.show()"
   ]
  },
  {
   "cell_type": "code",
   "execution_count": 20,
   "id": "d6de6f27",
   "metadata": {
    "scrolled": true
   },
   "outputs": [
    {
     "name": "stdout",
     "output_type": "stream",
     "text": [
      "+------------+----+-----------+------------------+--------------+--------------------------------+----------------------------+------------+-------------------------+---------------+---------------+---------------------------------+\n",
      "|Country Name|Year|Life Ladder|Log GDP Per Capita|Social Support|Healthy Life Expectancy At Birth|Freedom To Make Life Choices|  Generosity|Perceptions Of Corruption|Positive Affect|Negative Affect|Confidence In National Government|\n",
      "+------------+----+-----------+------------------+--------------+--------------------------------+----------------------------+------------+-------------------------+---------------+---------------+---------------------------------+\n",
      "| Afghanistan|2008|3.723589897|       7.350416183|   0.450662315|                            50.5|                 0.718114316| 0.167652458|               0.88168633|    0.414297044|     0.25819549|                       0.61207211|\n",
      "| Afghanistan|2009|4.401778221|       7.508646011|    0.55230844|                     50.79999924|                 0.678896368| 0.190808803|              0.850035429|    0.481421441|     0.23709242|                      0.611545205|\n",
      "| Afghanistan|2010| 4.75838089|       7.613899708|   0.539075196|                     51.09999847|                  0.60012722| 0.121316046|              0.706766069|    0.516906679|    0.275323808|                      0.299357414|\n",
      "| Afghanistan|2011| 3.83171916|       7.581258774|   0.521103561|                     51.40000153|                 0.495901406| 0.163571492|              0.731108546|    0.479834676|    0.267174691|                      0.307385713|\n",
      "| Afghanistan|2012|3.782937527|       7.660505772|   0.520636737|                     51.70000076|                 0.530935049| 0.237587586|              0.775619805|    0.613512814|    0.267919123|                      0.435440153|\n",
      "| Afghanistan|2013|3.572100401|       7.680333138|    0.48355186|                            52.0|                 0.577955365| 0.062666222|                0.8232041|    0.547416985|    0.273328096|                      0.482847273|\n",
      "| Afghanistan|2014|3.130895615|       7.670638084|   0.525568426|                     52.29999924|                 0.508514047| 0.105754882|              0.871241987|    0.491641015|    0.374860734|                      0.409047514|\n",
      "| Afghanistan|2015|3.982854605|       7.653833389|   0.528597236|                     52.59999847|                 0.388927579| 0.081652276|              0.880638301|    0.491409957|    0.339276046|                      0.260557145|\n",
      "| Afghanistan|2016|4.220168591|       7.650369644|   0.559071779|                     52.92499924|                 0.522566199| 0.043916017|              0.793245554|    0.501408756|    0.348332286|                      0.324989557|\n",
      "| Afghanistan|2017| 2.66171813|       7.647830486|   0.490880072|                           53.25|                 0.427010864| -0.11941047|              0.954392552|    0.435269952|    0.371326178|                      0.261178523|\n",
      "| Afghanistan|2018|2.694303274|       7.630800724|   0.507515848|                     53.57500076|                 0.373535544|-0.091105983|              0.927605689|    0.384561479|    0.404904395|                      0.364666402|\n",
      "| Afghanistan|2019|2.375091791|       7.640085697|   0.419972867|                     53.90000153|                 0.393656164| -0.10601645|              0.923849106|    0.324107826|    0.502473712|                      0.341482222|\n",
      "| Afghanistan|2021|2.436034441|       7.324032307|   0.454174697|                     54.54999924|                 0.394305944|-0.081011124|              0.946299374|    0.178885803|     0.60671258|                      0.255620003|\n",
      "| Afghanistan|2022|  1.2812711|              null|   0.228217229|                          54.875|                 0.368377149|        null|              0.733197868|    0.205867782|    0.575511873|                             null|\n",
      "|     Albania|2007|4.634251595|       9.121704102|   0.821371615|                     66.76000214|                 0.528604746|-0.010428508|              0.874699533|    0.488818616|     0.24633503|                      0.300680578|\n",
      "|     Albania|2009|5.485469818|       9.241429329|   0.833046615|                     67.31999969|                 0.525223255|-0.159258857|              0.863665402|    0.564474463|    0.279256523|                             null|\n",
      "|     Albania|2010|5.268936634|       9.282793045|    0.73315227|                     67.59999847|                 0.568958402|-0.173675284|              0.726261675|    0.576076567|    0.300060242|                             null|\n",
      "|     Albania|2011|5.867421627|       9.310619354|   0.759433806|                     67.87999725|                 0.487496257|-0.206186071|              0.877002597|    0.565758884|    0.256576508|                             null|\n",
      "|     Albania|2012|5.510124207|       9.326343536|   0.784501791|                     68.16000366|                 0.601512134|-0.170467481|              0.847675204|    0.553473175|    0.271393239|                      0.364893705|\n",
      "|     Albania|2013|4.550647736|        9.33814621|   0.759476721|                     68.44000244|                 0.631830275|-0.128825098|              0.862904966|     0.54075098|    0.338378578|                      0.338094711|\n",
      "+------------+----+-----------+------------------+--------------+--------------------------------+----------------------------+------------+-------------------------+---------------+---------------+---------------------------------+\n",
      "only showing top 20 rows\n",
      "\n"
     ]
    }
   ],
   "source": [
    "# Drop trivial columns\n",
    "data2 = happiness_data.drop(\"Regional Indicator\")\n",
    "data2.show()"
   ]
  },
  {
   "cell_type": "code",
   "execution_count": 21,
   "id": "a8b9fe83",
   "metadata": {
    "scrolled": true
   },
   "outputs": [
    {
     "name": "stderr",
     "output_type": "stream",
     "text": [
      "                                                                                \r"
     ]
    },
    {
     "name": "stdout",
     "output_type": "stream",
     "text": [
      "+-----+------+----+----+-----------------+--------------------+--------------------+---------------------+----------------------+--------------+-------------------------+\n",
      "|index|Entity|Code|Year|Schizophrenia (%)|Bipolar disorder (%)|Eating disorders (%)|Anxiety disorders (%)|Drug use disorders (%)|Depression (%)|Alcohol use disorders (%)|\n",
      "+-----+------+----+----+-----------------+--------------------+--------------------+---------------------+----------------------+--------------+-------------------------+\n",
      "|    0|     0|   0|   0|                0|                   0|                   0|                    0|                     0|             0|                        0|\n",
      "+-----+------+----+----+-----------------+--------------------+--------------------+---------------------+----------------------+--------------+-------------------------+\n",
      "\n",
      "The dataset has 1960 rows and 11 columns.\n"
     ]
    }
   ],
   "source": [
    "filtered_data1 = filtered_data1.dropna()\n",
    "data1_missing_values = filtered_data1.select([\n",
    "    count(when(col(c).isNull(), c)).alias(c) for c in filtered_data1.columns\n",
    "])\n",
    "\n",
    "data1_missing_values.show()\n",
    "print(f\"The dataset has {filtered_data1.count()} rows and {len(filtered_data1.columns)} columns.\")"
   ]
  },
  {
   "cell_type": "code",
   "execution_count": 22,
   "id": "af6170b5",
   "metadata": {
    "scrolled": false
   },
   "outputs": [
    {
     "name": "stdout",
     "output_type": "stream",
     "text": [
      "+------------+----+-----------+------------------+--------------+--------------------------------+----------------------------+----------+-------------------------+---------------+---------------+---------------------------------+\n",
      "|Country Name|Year|Life Ladder|Log GDP Per Capita|Social Support|Healthy Life Expectancy At Birth|Freedom To Make Life Choices|Generosity|Perceptions Of Corruption|Positive Affect|Negative Affect|Confidence In National Government|\n",
      "+------------+----+-----------+------------------+--------------+--------------------------------+----------------------------+----------+-------------------------+---------------+---------------+---------------------------------+\n",
      "|           0|   0|          0|                 0|             0|                               0|                           0|         0|                        0|              0|              0|                                0|\n",
      "+------------+----+-----------+------------------+--------------+--------------------------------+----------------------------+----------+-------------------------+---------------+---------------+---------------------------------+\n",
      "\n"
     ]
    }
   ],
   "source": [
    "# Fill missing values using median\n",
    "columns_to_fill = [\"Life Ladder\", \"Log GDP Per Capita\", \"Social Support\", \"Healthy Life Expectancy At Birth\", \"Freedom To Make Life Choices\", \"Generosity\", \"Perceptions Of Corruption\", \"Positive Affect\", \"Negative Affect\", \"Confidence In National Government\"]\n",
    "medians = {col: data2.approxQuantile(col, [0.5], 0.0)[0] for col in columns_to_fill}\n",
    "data2 = data2.fillna(medians)\n",
    "# data2.show()\n",
    "data2_missing_values = data2.select([\n",
    "    count(when(col(c).isNull(), c)).alias(c) for c in data2.columns\n",
    "])\n",
    "\n",
    "data2_missing_values.show()"
   ]
  },
  {
   "cell_type": "code",
   "execution_count": 23,
   "id": "39f02f06",
   "metadata": {},
   "outputs": [
    {
     "name": "stdout",
     "output_type": "stream",
     "text": [
      "['Alcohol_data', 'Alcohol_plot_data', 'Anxiety_data', 'Anxiety_plot_data', 'Depression_data', 'Depression_plot_data', 'Drug_data', 'Drug_plot_data', 'Eating_data', 'Eating_plot_data', 'In', 'Out', 'SparkSession', '_', '__', '___', '__builtin__', '__builtins__', '__doc__', '__loader__', '__name__', '__package__', '__spec__', '_dh', '_i', '_i1', '_i10', '_i11', '_i12', '_i13', '_i14', '_i15', '_i16', '_i17', '_i18', '_i19', '_i2', '_i20', '_i21', '_i22', '_i23', '_i3', '_i4', '_i5', '_i6', '_i7', '_i8', '_i9', '_ih', '_ii', '_iii', '_oh', 'bipolar_data', 'col', 'columns_to_fill', 'count', 'data1_missing_values', 'data2', 'data2_missing_values', 'disorders_data', 'disorders_missing_values', 'exit', 'filtered_data1', 'get_ipython', 'happiness_data', 'happiness_missing_values', 'isnan', 'medians', 'nz_data', 'nz_pandas_data', 'plot_data', 'plt', 'quit', 'spark', 'unique_count', 'unique_country', 'when', 'world_data', 'world_data1']\n"
     ]
    }
   ],
   "source": [
    "print(dir())"
   ]
  },
  {
   "cell_type": "code",
   "execution_count": 34,
   "id": "f4533515",
   "metadata": {},
   "outputs": [
    {
     "name": "stdout",
     "output_type": "stream",
     "text": [
      "+-----+------+----+----+-----------------+--------------------+--------------------+---------------------+----------------------+--------------+-------------------------+-------------------+\n",
      "|index|Entity|Code|Year|Schizophrenia (%)|Bipolar disorder (%)|Eating disorders (%)|Anxiety disorders (%)|Drug use disorders (%)|Depression (%)|Alcohol use disorders (%)|Total_disorders (%)|\n",
      "+-----+------+----+----+-----------------+--------------------+--------------------+---------------------+----------------------+--------------+-------------------------+-------------------+\n",
      "|    0|     0|   0|   0|                0|                   0|                   0|                    0|                     0|             0|                        0|                  0|\n",
      "+-----+------+----+----+-----------------+--------------------+--------------------+---------------------+----------------------+--------------+-------------------------+-------------------+\n",
      "\n"
     ]
    }
   ],
   "source": [
    "# Add a new column\n",
    "filtered_data1 = filtered_data1.withColumn(\n",
    "    \"Total_disorders (%)\",\n",
    "    col(\"Schizophrenia (%)\") +\n",
    "    col(\"Bipolar disorder (%)\") +\n",
    "    col(\"Eating disorders (%)\") +\n",
    "    col(\"Anxiety disorders (%)\") +\n",
    "    col(\"Drug use disorders (%)\") +\n",
    "    col(\"Depression (%)\") +\n",
    "    col(\"Alcohol use disorders (%)\")\n",
    ")\n",
    "#filtered_data1.show()\n",
    "data1_missing_values = filtered_data1.select([\n",
    "    count(when(col(c).isNull(), c)).alias(c) for c in filtered_data1.columns\n",
    "])\n",
    "\n",
    "data1_missing_values.show()"
   ]
  },
  {
   "cell_type": "code",
   "execution_count": 56,
   "id": "cc033ef5",
   "metadata": {},
   "outputs": [],
   "source": [
    "# Boost data\n",
    "from pyspark.sql.functions import col, expr, monotonically_increasing_id\n",
    "import numpy as np\n",
    "import pandas as pd\n",
    "disorder_columns = ['Schizophrenia (%)', 'Bipolar disorder (%)', 'Eating disorders (%)',\n",
    "                    'Anxiety disorders (%)', 'Drug use disorders (%)', 'Depression (%)',\n",
    "                    'Alcohol use disorders (%)']\n",
    "filtered_data1 = filtered_data1.withColumn(\"index\", monotonically_increasing_id())\n",
    "data1 = filtered_data1.toPandas()\n",
    "\n",
    "num_new_rows = 2000\n",
    "new_rows = []\n",
    "\n",
    "for _ in range(num_new_rows):\n",
    "    idx1, idx2 = np.random.choice(data1.index, 2, replace=False)\n",
    "    numerical_data = data1.loc[[idx1, idx2], disorder_columns]\n",
    "    new_row = numerical_data.mean(numeric_only=True)\n",
    "    \n",
    "    new_row['Entity'] = data1.loc[idx1, 'Entity']\n",
    "    new_row['Code'] = data1.loc[idx1, 'Code']\n",
    "    new_row['Year'] = data1.loc[idx1, 'Year']\n",
    "    new_rows.append(new_row)\n",
    "    \n",
    "new_data1 = pd.DataFrame(new_rows, columns=data1.columns)\n",
    "new_spark_df = spark.createDataFrame(new_data1)\n"
   ]
  },
  {
   "cell_type": "code",
   "execution_count": 35,
   "id": "48bd94d8",
   "metadata": {},
   "outputs": [
    {
     "name": "stdout",
     "output_type": "stream",
     "text": [
      "+-----+-----------+----+----+-----------------+--------------------+--------------------+---------------------+----------------------+--------------+-------------------------+-------------------+\n",
      "|index|     Entity|Code|Year|Schizophrenia (%)|Bipolar disorder (%)|Eating disorders (%)|Anxiety disorders (%)|Drug use disorders (%)|Depression (%)|Alcohol use disorders (%)|Total_disorders (%)|\n",
      "+-----+-----------+----+----+-----------------+--------------------+--------------------+---------------------+----------------------+--------------+-------------------------+-------------------+\n",
      "|  0.0|Afghanistan| AFG|2008|         0.164639|             0.70448|            0.093589|             4.860437|              2.483862|      4.129656|                 0.659501|          13.096164|\n",
      "|  1.0|Afghanistan| AFG|2009|         0.164932|            0.704925|            0.095166|             4.861533|              2.543884|      4.129972|                 0.661185|          13.161597|\n",
      "|  2.0|Afghanistan| AFG|2010|          0.16513|            0.705313|            0.097327|             4.862777|              2.571349|      4.130874|                 0.662062| 13.194832000000002|\n",
      "|  3.0|Afghanistan| AFG|2011|         0.165272|            0.705688|            0.098638|             4.864773|               2.57317|      4.130862|                 0.662254|          13.200657|\n",
      "|  4.0|Afghanistan| AFG|2012|         0.165424|            0.706086|            0.099891|             4.867283|              2.576189|      4.132485|                 0.662372| 13.209729999999999|\n",
      "|  5.0|Afghanistan| AFG|2013|         0.165579|            0.706471|            0.101291|             4.869701|              2.572396|      4.134661|                 0.662433|          13.212532|\n",
      "|  6.0|Afghanistan| AFG|2014|         0.165742|            0.706876|            0.103137|             4.872256|              2.562885|      4.133526|                 0.662447|          13.206869|\n",
      "|  7.0|Afghanistan| AFG|2015|         0.165895|            0.707275|            0.104445|             4.875201|              2.543144|      4.135419|                 0.662276| 13.193654999999998|\n",
      "|  8.0|Afghanistan| AFG|2016|         0.166035|            0.707686|            0.105808|             4.878875|              2.513553|      4.135694|                  0.66185| 13.169500999999999|\n",
      "|  9.0|Afghanistan| AFG|2017|         0.166158|            0.708089|            0.107142|             4.882481|              2.473934|      4.136347|                 0.661217|          13.135368|\n",
      "| 10.0|    Albania| ALB|2008|         0.198306|              0.7024|            0.154945|             3.390168|              0.497332|      2.210642|                  1.79855|           8.952343|\n",
      "| 11.0|    Albania| ALB|2009|         0.198905|            0.702783|            0.157738|             3.391018|              0.498324|      2.206033|                 1.824955|  8.979756000000002|\n",
      "| 12.0|    Albania| ALB|2010|         0.199308|            0.703064|            0.160337|             3.391246|               0.50027|      2.203342|                 1.838566|           8.996133|\n",
      "| 13.0|    Albania| ALB|2011|         0.199588|            0.703313|             0.16242|             3.391181|              0.502703|      2.202291|                 1.843256|  9.004752000000002|\n",
      "| 14.0|    Albania| ALB|2012|         0.199863|            0.703539|            0.165446|             3.390807|              0.505621|      2.202192|                 1.847375|  9.014842999999999|\n",
      "| 15.0|    Albania| ALB|2013|         0.200134|             0.70376|            0.167105|             3.390195|              0.508049|      2.203098|                 1.850358|           9.022699|\n",
      "| 16.0|    Albania| ALB|2014|         0.200392|             0.70397|             0.16941|             3.389319|              0.510089|      2.203684|                 1.851517|           9.028381|\n",
      "| 17.0|    Albania| ALB|2015|          0.20063|            0.704161|            0.171095|             3.388212|              0.513158|      2.204454|                 1.850252|           9.031962|\n",
      "| 18.0|    Albania| ALB|2016|         0.200845|            0.704335|            0.172627|             3.386891|              0.515036|      2.206507|                 1.845972|           9.032213|\n",
      "| 19.0|    Albania| ALB|2017|         0.201025|             0.70448|            0.174046|             3.385245|              0.517614|      2.208414|                 1.837955|           9.028779|\n",
      "+-----+-----------+----+----+-----------------+--------------------+--------------------+---------------------+----------------------+--------------+-------------------------+-------------------+\n",
      "only showing top 20 rows\n",
      "\n",
      "+-----+------+----+----+-----------------+--------------------+--------------------+---------------------+----------------------+--------------+-------------------------+-------------------+\n",
      "|index|Entity|Code|Year|Schizophrenia (%)|Bipolar disorder (%)|Eating disorders (%)|Anxiety disorders (%)|Drug use disorders (%)|Depression (%)|Alcohol use disorders (%)|Total_disorders (%)|\n",
      "+-----+------+----+----+-----------------+--------------------+--------------------+---------------------+----------------------+--------------+-------------------------+-------------------+\n",
      "|    0|     0|   0|   0|                0|                   0|                   0|                    0|                     0|             0|                        0|                  0|\n",
      "+-----+------+----+----+-----------------+--------------------+--------------------+---------------------+----------------------+--------------+-------------------------+-------------------+\n",
      "\n"
     ]
    },
    {
     "name": "stderr",
     "output_type": "stream",
     "text": [
      "\r",
      "[Stage 90:=============================>                            (2 + 2) / 4]\r",
      "\r",
      "                                                                                \r"
     ]
    }
   ],
   "source": [
    "boosted_data1 = filtered_data1.union(new_spark_df)\n",
    "boosted_data1.show()\n",
    "data1_missing_values = boosted_data1.select([\n",
    "    count(when(col(c).isNull(), c)).alias(c) for c in boosted_data1.columns\n",
    "])\n",
    "\n",
    "data1_missing_values.show()"
   ]
  },
  {
   "cell_type": "code",
   "execution_count": 57,
   "id": "f58a2676",
   "metadata": {},
   "outputs": [],
   "source": [
    "numerical_columns = ['Life Ladder', 'Log GDP Per Capita', 'Social Support',\n",
    "                     'Healthy Life Expectancy At Birth', 'Freedom To Make Life Choices',\n",
    "                     'Generosity', 'Perceptions Of Corruption', 'Positive Affect',\n",
    "                     'Negative Affect', 'Confidence In National Government']\n",
    "data2 = data2.withColumn(\"index\", monotonically_increasing_id())\n",
    "panda_data1 = data2.toPandas()\n",
    "\n",
    "new_rows_happiness = []\n",
    "\n",
    "for _ in range(num_new_rows):\n",
    "    idx1, idx2 = np.random.choice(panda_data1.index, 2, replace=False)\n",
    "    numerical_data_happiness = panda_data1.loc[[idx1, idx2], numerical_columns]\n",
    "    new_row_happiness = numerical_data_happiness.mean(numeric_only=True)\n",
    "    \n",
    "    new_row_happiness['Country Name'] = panda_data1.loc[idx1, 'Country Name']\n",
    "    new_row_happiness['Year'] = panda_data1.loc[idx1, 'Year']\n",
    "    new_rows_happiness.append(new_row_happiness)\n",
    "    \n",
    "new_data2 = pd.DataFrame(new_rows, columns=panda_data1.columns)\n",
    "new_spark_df2 = spark.createDataFrame(new_data2)\n"
   ]
  },
  {
   "cell_type": "code",
   "execution_count": 36,
   "id": "120b3e1e",
   "metadata": {},
   "outputs": [
    {
     "name": "stdout",
     "output_type": "stream",
     "text": [
      "+------------+----+-----------+------------------+--------------+--------------------------------+----------------------------+----------+-------------------------+---------------+---------------+---------------------------------+-----+\n",
      "|Country Name|Year|Life Ladder|Log GDP Per Capita|Social Support|Healthy Life Expectancy At Birth|Freedom To Make Life Choices|Generosity|Perceptions Of Corruption|Positive Affect|Negative Affect|Confidence In National Government|index|\n",
      "+------------+----+-----------+------------------+--------------+--------------------------------+----------------------------+----------+-------------------------+---------------+---------------+---------------------------------+-----+\n",
      "|           0|   0|          0|                 0|             0|                               0|                           0|         0|                        0|              0|              0|                                0|    0|\n",
      "+------------+----+-----------+------------------+--------------+--------------------------------+----------------------------+----------+-------------------------+---------------+---------------+---------------------------------+-----+\n",
      "\n"
     ]
    }
   ],
   "source": [
    "boosted_data2 = data2.union(new_spark_df2)\n",
    "#boosted_data2.show()\n",
    "data2_missing_values = boosted_data2.select([\n",
    "    count(when(col(c).isNull(), c)).alias(c) for c in boosted_data2.columns\n",
    "])\n",
    "\n",
    "data2_missing_values.show()"
   ]
  },
  {
   "cell_type": "code",
   "execution_count": 58,
   "id": "0da642b5",
   "metadata": {},
   "outputs": [
    {
     "name": "stdout",
     "output_type": "stream",
     "text": [
      "root\n",
      " |-- Entity: string (nullable = true)\n",
      " |-- Year: long (nullable = true)\n",
      " |-- Life Ladder: double (nullable = true)\n",
      " |-- Log GDP Per Capita: double (nullable = true)\n",
      " |-- Social Support: double (nullable = true)\n",
      " |-- Healthy Life Expectancy At Birth: double (nullable = true)\n",
      " |-- Freedom To Make Life Choices: double (nullable = true)\n",
      " |-- Generosity: double (nullable = true)\n",
      " |-- Perceptions Of Corruption: double (nullable = true)\n",
      " |-- Positive Affect: double (nullable = true)\n",
      " |-- Negative Affect: double (nullable = true)\n",
      " |-- Confidence In National Government: double (nullable = true)\n",
      "\n"
     ]
    }
   ],
   "source": [
    "# Rename a column\n",
    "boosted_data2 = boosted_data2.withColumnRenamed(\"Country Name\", \"Entity\")\n",
    "boosted_data2.printSchema()"
   ]
  },
  {
   "cell_type": "code",
   "execution_count": 59,
   "id": "ca0a4ea4",
   "metadata": {},
   "outputs": [],
   "source": [
    "boosted_data1 = boosted_data1.drop(\"index\")\n",
    "boosted_data2 = boosted_data2.drop(\"index\")\n",
    "merged_data = boosted_data1.join(\n",
    "    boosted_data2,\n",
    "    (boosted_data1.Year == boosted_data2.Year) & (boosted_data1.Entity == boosted_data2.Entity),\n",
    "    \"inner\"\n",
    ").drop(boosted_data2.Year).drop(boosted_data2.Entity)\n"
   ]
  },
  {
   "cell_type": "code",
   "execution_count": 52,
   "id": "969e6480",
   "metadata": {
    "scrolled": true
   },
   "outputs": [
    {
     "name": "stdout",
     "output_type": "stream",
     "text": [
      "root\n",
      " |-- Entity: string (nullable = true)\n",
      " |-- Code: string (nullable = true)\n",
      " |-- Year: long (nullable = true)\n",
      " |-- Schizophrenia (%): string (nullable = true)\n",
      " |-- Bipolar disorder (%): string (nullable = true)\n",
      " |-- Eating disorders (%): string (nullable = true)\n",
      " |-- Anxiety disorders (%): double (nullable = true)\n",
      " |-- Drug use disorders (%): double (nullable = true)\n",
      " |-- Depression (%): double (nullable = true)\n",
      " |-- Alcohol use disorders (%): double (nullable = true)\n",
      " |-- Total_disorders (%): double (nullable = true)\n",
      " |-- Life Ladder: double (nullable = true)\n",
      " |-- Log GDP Per Capita: double (nullable = true)\n",
      " |-- Social Support: double (nullable = true)\n",
      " |-- Healthy Life Expectancy At Birth: double (nullable = true)\n",
      " |-- Freedom To Make Life Choices: double (nullable = true)\n",
      " |-- Generosity: double (nullable = true)\n",
      " |-- Perceptions Of Corruption: double (nullable = true)\n",
      " |-- Positive Affect: double (nullable = true)\n",
      " |-- Negative Affect: double (nullable = true)\n",
      " |-- Confidence In National Government: double (nullable = true)\n",
      "\n"
     ]
    },
    {
     "name": "stderr",
     "output_type": "stream",
     "text": [
      "                                                                                \r"
     ]
    },
    {
     "data": {
      "text/html": [
       "<div>\n",
       "<style scoped>\n",
       "    .dataframe tbody tr th:only-of-type {\n",
       "        vertical-align: middle;\n",
       "    }\n",
       "\n",
       "    .dataframe tbody tr th {\n",
       "        vertical-align: top;\n",
       "    }\n",
       "\n",
       "    .dataframe thead th {\n",
       "        text-align: right;\n",
       "    }\n",
       "</style>\n",
       "<table border=\"1\" class=\"dataframe\">\n",
       "  <thead>\n",
       "    <tr style=\"text-align: right;\">\n",
       "      <th></th>\n",
       "      <th>Entity</th>\n",
       "      <th>Code</th>\n",
       "      <th>Year</th>\n",
       "      <th>Schizophrenia (%)</th>\n",
       "      <th>Bipolar disorder (%)</th>\n",
       "      <th>Eating disorders (%)</th>\n",
       "      <th>Anxiety disorders (%)</th>\n",
       "      <th>Drug use disorders (%)</th>\n",
       "      <th>Depression (%)</th>\n",
       "      <th>Alcohol use disorders (%)</th>\n",
       "      <th>...</th>\n",
       "      <th>Life Ladder</th>\n",
       "      <th>Log GDP Per Capita</th>\n",
       "      <th>Social Support</th>\n",
       "      <th>Healthy Life Expectancy At Birth</th>\n",
       "      <th>Freedom To Make Life Choices</th>\n",
       "      <th>Generosity</th>\n",
       "      <th>Perceptions Of Corruption</th>\n",
       "      <th>Positive Affect</th>\n",
       "      <th>Negative Affect</th>\n",
       "      <th>Confidence In National Government</th>\n",
       "    </tr>\n",
       "  </thead>\n",
       "  <tbody>\n",
       "    <tr>\n",
       "      <th>0</th>\n",
       "      <td>India</td>\n",
       "      <td>IND</td>\n",
       "      <td>2015</td>\n",
       "      <td>NaN</td>\n",
       "      <td>NaN</td>\n",
       "      <td>NaN</td>\n",
       "      <td>3.175424</td>\n",
       "      <td>0.600054</td>\n",
       "      <td>3.816052</td>\n",
       "      <td>0.828331</td>\n",
       "      <td>...</td>\n",
       "      <td>4.342079</td>\n",
       "      <td>8.596351</td>\n",
       "      <td>0.610133</td>\n",
       "      <td>59.099998</td>\n",
       "      <td>0.777225</td>\n",
       "      <td>-0.007035</td>\n",
       "      <td>0.776435</td>\n",
       "      <td>0.657201</td>\n",
       "      <td>0.321829</td>\n",
       "      <td>0.694717</td>\n",
       "    </tr>\n",
       "    <tr>\n",
       "      <th>1</th>\n",
       "      <td>India</td>\n",
       "      <td>IND</td>\n",
       "      <td>2015</td>\n",
       "      <td>NaN</td>\n",
       "      <td>NaN</td>\n",
       "      <td>NaN</td>\n",
       "      <td>4.250139</td>\n",
       "      <td>0.667532</td>\n",
       "      <td>3.810955</td>\n",
       "      <td>1.288007</td>\n",
       "      <td>...</td>\n",
       "      <td>4.342079</td>\n",
       "      <td>8.596351</td>\n",
       "      <td>0.610133</td>\n",
       "      <td>59.099998</td>\n",
       "      <td>0.777225</td>\n",
       "      <td>-0.007035</td>\n",
       "      <td>0.776435</td>\n",
       "      <td>0.657201</td>\n",
       "      <td>0.321829</td>\n",
       "      <td>0.694717</td>\n",
       "    </tr>\n",
       "    <tr>\n",
       "      <th>2</th>\n",
       "      <td>India</td>\n",
       "      <td>IND</td>\n",
       "      <td>2015</td>\n",
       "      <td>0.260509</td>\n",
       "      <td>0.55639</td>\n",
       "      <td>0.15115</td>\n",
       "      <td>3.294846</td>\n",
       "      <td>0.517256</td>\n",
       "      <td>3.515554</td>\n",
       "      <td>1.128306</td>\n",
       "      <td>...</td>\n",
       "      <td>4.342079</td>\n",
       "      <td>8.596351</td>\n",
       "      <td>0.610133</td>\n",
       "      <td>59.099998</td>\n",
       "      <td>0.777225</td>\n",
       "      <td>-0.007035</td>\n",
       "      <td>0.776435</td>\n",
       "      <td>0.657201</td>\n",
       "      <td>0.321829</td>\n",
       "      <td>0.694717</td>\n",
       "    </tr>\n",
       "    <tr>\n",
       "      <th>3</th>\n",
       "      <td>Sweden</td>\n",
       "      <td>SWE</td>\n",
       "      <td>2012</td>\n",
       "      <td>0.277314</td>\n",
       "      <td>1.059135</td>\n",
       "      <td>0.55088</td>\n",
       "      <td>5.303474</td>\n",
       "      <td>0.634301</td>\n",
       "      <td>4.541678</td>\n",
       "      <td>1.835134</td>\n",
       "      <td>...</td>\n",
       "      <td>7.560148</td>\n",
       "      <td>10.785204</td>\n",
       "      <td>0.929397</td>\n",
       "      <td>71.279999</td>\n",
       "      <td>0.944382</td>\n",
       "      <td>0.128703</td>\n",
       "      <td>0.253543</td>\n",
       "      <td>0.795511</td>\n",
       "      <td>0.170226</td>\n",
       "      <td>0.626497</td>\n",
       "    </tr>\n",
       "    <tr>\n",
       "      <th>4</th>\n",
       "      <td>Armenia</td>\n",
       "      <td>ARM</td>\n",
       "      <td>2013</td>\n",
       "      <td>0.19569</td>\n",
       "      <td>0.716129</td>\n",
       "      <td>0.162291</td>\n",
       "      <td>2.588201</td>\n",
       "      <td>0.488026</td>\n",
       "      <td>2.726631</td>\n",
       "      <td>1.989049</td>\n",
       "      <td>...</td>\n",
       "      <td>4.277191</td>\n",
       "      <td>9.275876</td>\n",
       "      <td>0.723260</td>\n",
       "      <td>65.519997</td>\n",
       "      <td>0.504082</td>\n",
       "      <td>-0.198420</td>\n",
       "      <td>0.899797</td>\n",
       "      <td>0.502904</td>\n",
       "      <td>0.449950</td>\n",
       "      <td>0.260400</td>\n",
       "    </tr>\n",
       "    <tr>\n",
       "      <th>...</th>\n",
       "      <td>...</td>\n",
       "      <td>...</td>\n",
       "      <td>...</td>\n",
       "      <td>...</td>\n",
       "      <td>...</td>\n",
       "      <td>...</td>\n",
       "      <td>...</td>\n",
       "      <td>...</td>\n",
       "      <td>...</td>\n",
       "      <td>...</td>\n",
       "      <td>...</td>\n",
       "      <td>...</td>\n",
       "      <td>...</td>\n",
       "      <td>...</td>\n",
       "      <td>...</td>\n",
       "      <td>...</td>\n",
       "      <td>...</td>\n",
       "      <td>...</td>\n",
       "      <td>...</td>\n",
       "      <td>...</td>\n",
       "      <td>...</td>\n",
       "    </tr>\n",
       "    <tr>\n",
       "      <th>2516</th>\n",
       "      <td>Mexico</td>\n",
       "      <td>MEX</td>\n",
       "      <td>2010</td>\n",
       "      <td>0.210427</td>\n",
       "      <td>0.816051</td>\n",
       "      <td>0.308406</td>\n",
       "      <td>3.174100</td>\n",
       "      <td>0.778611</td>\n",
       "      <td>2.761090</td>\n",
       "      <td>1.722540</td>\n",
       "      <td>...</td>\n",
       "      <td>6.802389</td>\n",
       "      <td>9.800165</td>\n",
       "      <td>0.876390</td>\n",
       "      <td>65.099998</td>\n",
       "      <td>0.778121</td>\n",
       "      <td>-0.052732</td>\n",
       "      <td>0.692892</td>\n",
       "      <td>0.745260</td>\n",
       "      <td>0.215495</td>\n",
       "      <td>0.371986</td>\n",
       "    </tr>\n",
       "    <tr>\n",
       "      <th>2517</th>\n",
       "      <td>Nicaragua</td>\n",
       "      <td>NIC</td>\n",
       "      <td>2008</td>\n",
       "      <td>0.1974</td>\n",
       "      <td>0.795389</td>\n",
       "      <td>0.190207</td>\n",
       "      <td>2.900724</td>\n",
       "      <td>0.568379</td>\n",
       "      <td>2.880336</td>\n",
       "      <td>2.078399</td>\n",
       "      <td>...</td>\n",
       "      <td>5.103827</td>\n",
       "      <td>8.450392</td>\n",
       "      <td>0.857186</td>\n",
       "      <td>64.500000</td>\n",
       "      <td>0.790831</td>\n",
       "      <td>0.073447</td>\n",
       "      <td>0.818949</td>\n",
       "      <td>0.770376</td>\n",
       "      <td>0.289345</td>\n",
       "      <td>0.336719</td>\n",
       "    </tr>\n",
       "    <tr>\n",
       "      <th>2518</th>\n",
       "      <td>Peru</td>\n",
       "      <td>PER</td>\n",
       "      <td>2011</td>\n",
       "      <td>0.201273</td>\n",
       "      <td>0.889585</td>\n",
       "      <td>0.358148</td>\n",
       "      <td>4.257831</td>\n",
       "      <td>0.591347</td>\n",
       "      <td>2.262397</td>\n",
       "      <td>1.460475</td>\n",
       "      <td>...</td>\n",
       "      <td>5.892457</td>\n",
       "      <td>9.262931</td>\n",
       "      <td>0.756305</td>\n",
       "      <td>67.760002</td>\n",
       "      <td>0.772759</td>\n",
       "      <td>-0.125832</td>\n",
       "      <td>0.823665</td>\n",
       "      <td>0.742466</td>\n",
       "      <td>0.330921</td>\n",
       "      <td>0.293340</td>\n",
       "    </tr>\n",
       "    <tr>\n",
       "      <th>2519</th>\n",
       "      <td>Turkmenistan</td>\n",
       "      <td>TKM</td>\n",
       "      <td>2013</td>\n",
       "      <td>NaN</td>\n",
       "      <td>NaN</td>\n",
       "      <td>NaN</td>\n",
       "      <td>3.918146</td>\n",
       "      <td>0.980783</td>\n",
       "      <td>3.163715</td>\n",
       "      <td>1.847141</td>\n",
       "      <td>...</td>\n",
       "      <td>5.391763</td>\n",
       "      <td>9.312131</td>\n",
       "      <td>0.845733</td>\n",
       "      <td>61.060001</td>\n",
       "      <td>0.704529</td>\n",
       "      <td>-0.071969</td>\n",
       "      <td>0.799654</td>\n",
       "      <td>0.551943</td>\n",
       "      <td>0.159606</td>\n",
       "      <td>0.467046</td>\n",
       "    </tr>\n",
       "    <tr>\n",
       "      <th>2520</th>\n",
       "      <td>Turkmenistan</td>\n",
       "      <td>TKM</td>\n",
       "      <td>2013</td>\n",
       "      <td>0.193282</td>\n",
       "      <td>0.665925</td>\n",
       "      <td>0.183104</td>\n",
       "      <td>2.557951</td>\n",
       "      <td>0.514996</td>\n",
       "      <td>2.820571</td>\n",
       "      <td>2.799165</td>\n",
       "      <td>...</td>\n",
       "      <td>5.391763</td>\n",
       "      <td>9.312131</td>\n",
       "      <td>0.845733</td>\n",
       "      <td>61.060001</td>\n",
       "      <td>0.704529</td>\n",
       "      <td>-0.071969</td>\n",
       "      <td>0.799654</td>\n",
       "      <td>0.551943</td>\n",
       "      <td>0.159606</td>\n",
       "      <td>0.467046</td>\n",
       "    </tr>\n",
       "  </tbody>\n",
       "</table>\n",
       "<p>2521 rows × 21 columns</p>\n",
       "</div>"
      ],
      "text/plain": [
       "            Entity Code  Year Schizophrenia (%) Bipolar disorder (%)  \\\n",
       "0            India  IND  2015               NaN                  NaN   \n",
       "1            India  IND  2015               NaN                  NaN   \n",
       "2            India  IND  2015          0.260509              0.55639   \n",
       "3           Sweden  SWE  2012          0.277314             1.059135   \n",
       "4          Armenia  ARM  2013           0.19569             0.716129   \n",
       "...            ...  ...   ...               ...                  ...   \n",
       "2516        Mexico  MEX  2010          0.210427             0.816051   \n",
       "2517     Nicaragua  NIC  2008            0.1974             0.795389   \n",
       "2518          Peru  PER  2011          0.201273             0.889585   \n",
       "2519  Turkmenistan  TKM  2013               NaN                  NaN   \n",
       "2520  Turkmenistan  TKM  2013          0.193282             0.665925   \n",
       "\n",
       "     Eating disorders (%)  Anxiety disorders (%)  Drug use disorders (%)  \\\n",
       "0                     NaN               3.175424                0.600054   \n",
       "1                     NaN               4.250139                0.667532   \n",
       "2                 0.15115               3.294846                0.517256   \n",
       "3                 0.55088               5.303474                0.634301   \n",
       "4                0.162291               2.588201                0.488026   \n",
       "...                   ...                    ...                     ...   \n",
       "2516             0.308406               3.174100                0.778611   \n",
       "2517             0.190207               2.900724                0.568379   \n",
       "2518             0.358148               4.257831                0.591347   \n",
       "2519                  NaN               3.918146                0.980783   \n",
       "2520             0.183104               2.557951                0.514996   \n",
       "\n",
       "      Depression (%)  Alcohol use disorders (%)  ...  Life Ladder  \\\n",
       "0           3.816052                   0.828331  ...     4.342079   \n",
       "1           3.810955                   1.288007  ...     4.342079   \n",
       "2           3.515554                   1.128306  ...     4.342079   \n",
       "3           4.541678                   1.835134  ...     7.560148   \n",
       "4           2.726631                   1.989049  ...     4.277191   \n",
       "...              ...                        ...  ...          ...   \n",
       "2516        2.761090                   1.722540  ...     6.802389   \n",
       "2517        2.880336                   2.078399  ...     5.103827   \n",
       "2518        2.262397                   1.460475  ...     5.892457   \n",
       "2519        3.163715                   1.847141  ...     5.391763   \n",
       "2520        2.820571                   2.799165  ...     5.391763   \n",
       "\n",
       "      Log GDP Per Capita  Social Support  Healthy Life Expectancy At Birth  \\\n",
       "0               8.596351        0.610133                         59.099998   \n",
       "1               8.596351        0.610133                         59.099998   \n",
       "2               8.596351        0.610133                         59.099998   \n",
       "3              10.785204        0.929397                         71.279999   \n",
       "4               9.275876        0.723260                         65.519997   \n",
       "...                  ...             ...                               ...   \n",
       "2516            9.800165        0.876390                         65.099998   \n",
       "2517            8.450392        0.857186                         64.500000   \n",
       "2518            9.262931        0.756305                         67.760002   \n",
       "2519            9.312131        0.845733                         61.060001   \n",
       "2520            9.312131        0.845733                         61.060001   \n",
       "\n",
       "      Freedom To Make Life Choices  Generosity  Perceptions Of Corruption  \\\n",
       "0                         0.777225   -0.007035                   0.776435   \n",
       "1                         0.777225   -0.007035                   0.776435   \n",
       "2                         0.777225   -0.007035                   0.776435   \n",
       "3                         0.944382    0.128703                   0.253543   \n",
       "4                         0.504082   -0.198420                   0.899797   \n",
       "...                            ...         ...                        ...   \n",
       "2516                      0.778121   -0.052732                   0.692892   \n",
       "2517                      0.790831    0.073447                   0.818949   \n",
       "2518                      0.772759   -0.125832                   0.823665   \n",
       "2519                      0.704529   -0.071969                   0.799654   \n",
       "2520                      0.704529   -0.071969                   0.799654   \n",
       "\n",
       "      Positive Affect  Negative Affect  Confidence In National Government  \n",
       "0            0.657201         0.321829                           0.694717  \n",
       "1            0.657201         0.321829                           0.694717  \n",
       "2            0.657201         0.321829                           0.694717  \n",
       "3            0.795511         0.170226                           0.626497  \n",
       "4            0.502904         0.449950                           0.260400  \n",
       "...               ...              ...                                ...  \n",
       "2516         0.745260         0.215495                           0.371986  \n",
       "2517         0.770376         0.289345                           0.336719  \n",
       "2518         0.742466         0.330921                           0.293340  \n",
       "2519         0.551943         0.159606                           0.467046  \n",
       "2520         0.551943         0.159606                           0.467046  \n",
       "\n",
       "[2521 rows x 21 columns]"
      ]
     },
     "execution_count": 52,
     "metadata": {},
     "output_type": "execute_result"
    }
   ],
   "source": [
    "merged_data.printSchema()\n",
    "pandas_df = merged_data.toPandas()\n",
    "pandas_df"
   ]
  },
  {
   "cell_type": "code",
   "execution_count": null,
   "id": "6ddc3fa3",
   "metadata": {},
   "outputs": [],
   "source": [
    "merged_data.write.csv('merged_data.csv', header=True, mode='overwrite')"
   ]
  },
  {
   "cell_type": "code",
   "execution_count": null,
   "id": "278390d9",
   "metadata": {},
   "outputs": [],
   "source": [
    "git init"
   ]
  },
  {
   "cell_type": "code",
   "execution_count": null,
   "id": "29526a09",
   "metadata": {},
   "outputs": [],
   "source": []
  }
 ],
 "metadata": {
  "kernelspec": {
   "display_name": "Python 3 (ipykernel)",
   "language": "python",
   "name": "python3"
  },
  "language_info": {
   "codemirror_mode": {
    "name": "ipython",
    "version": 3
   },
   "file_extension": ".py",
   "mimetype": "text/x-python",
   "name": "python",
   "nbconvert_exporter": "python",
   "pygments_lexer": "ipython3",
   "version": "3.10.12"
  }
 },
 "nbformat": 4,
 "nbformat_minor": 5
}
